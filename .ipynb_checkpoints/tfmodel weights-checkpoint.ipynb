{
 "cells": [
  {
   "cell_type": "code",
   "execution_count": null,
   "metadata": {
    "collapsed": true
   },
   "outputs": [],
   "source": [
    "import numpy as np\n",
    "import cv2\n",
    "import scipy.io\n",
    "import json\n",
    "import time\n",
    "import numpy as np\n",
    "import h5py\n",
    "import sys\n",
    "reload(sys)\n",
    "sys.setdefaultencoding('utf-8')"
   ]
  },
  {
   "cell_type": "code",
   "execution_count": null,
   "metadata": {
    "collapsed": false
   },
   "outputs": [],
   "source": [
    "PRETRAINED = \"extras/resnet-101-2016.tfmodel\"\n",
    "print \"Pretrained\""
   ]
  },
  {
   "cell_type": "code",
   "execution_count": null,
   "metadata": {
    "collapsed": false
   },
   "outputs": [],
   "source": [
    "import tensorflow as tf\n",
    "import PIL.Image\n",
    "import numpy as np\n",
    "\n",
    "with open(PRETRAINED, mode='rb') as f:\n",
    "    fileContent = f.read()\n",
    "\n",
    "graph_def = tf.GraphDef()\n",
    "graph_def.ParseFromString(fileContent)\n",
    "\n",
    "images = tf.placeholder(\"float\", [None, 224, 224, 3])\n",
    "\n",
    "tf.import_graph_def(graph_def, input_map={ \"images\": images })\n",
    "print(\"graph loaded from disk\")\n",
    "\n",
    "graph = tf.get_default_graph()\n"
   ]
  },
  {
   "cell_type": "code",
   "execution_count": null,
   "metadata": {
    "collapsed": false
   },
   "outputs": [],
   "source": [
    "prob_tensor = graph.get_tensor_by_name(\"import/pool1:0\")\n",
    "\n",
    "print prob_tensor"
   ]
  }
 ],
 "metadata": {
  "kernelspec": {
   "display_name": "Python 2",
   "language": "python",
   "name": "python2"
  },
  "language_info": {
   "codemirror_mode": {
    "name": "ipython",
    "version": 2
   },
   "file_extension": ".py",
   "mimetype": "text/x-python",
   "name": "python",
   "nbconvert_exporter": "python",
   "pygments_lexer": "ipython2",
   "version": "2.7.3"
  }
 },
 "nbformat": 4,
 "nbformat_minor": 0
}
