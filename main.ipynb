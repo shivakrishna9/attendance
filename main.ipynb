{
 "cells": [
  {
   "cell_type": "code",
   "execution_count": 1,
   "metadata": {
    "collapsed": true
   },
   "outputs": [],
   "source": [
    "import numpy as np\n",
    "import cv2\n",
    "import keras\n",
    "from keras.models import Sequential\n",
    "from keras.layers import Dense, Dropout, Activation, Flatten\n",
    "from keras.layers import Convolution2D, MaxPooling2D\n",
    "from keras.optimizers import SGD, Adam\n",
    "from keras.models import Sequential\n",
    "from keras.layers import Convolution2D, ZeroPadding2D, MaxPooling2D\n",
    "from keras.layers import normalization\n",
    "import h5py\n",
    "from test import *\n",
    "from keras import backend as K\n",
    "import time\n",
    "from FaceRec.pretrained_cnn import *                         # Hi Shivam, this is going to take about a second\n",
    "import FaceRec\n",
    "from FaceRec.net import *\n",
    "from FaceRec.get_input import *\n",
    "from scipy.misc import imsave\n",
    "import numpy as np\n"
   ]
  },
  {
   "cell_type": "code",
   "execution_count": 17,
   "metadata": {
    "collapsed": true
   },
   "outputs": [],
   "source": [
    "x,y = from_file()                             # This prints some things on the terminal\n",
    "x_test, y_test = test_file()                  # last statement must be : No. of images 237 no. of classes: 237"
   ]
  },
  {
   "cell_type": "code",
   "execution_count": 3,
   "metadata": {
    "collapsed": true
   },
   "outputs": [],
   "source": [
    "model = Sequential()\n",
    "model.add(Convolution2D(64, 3, 3,input_shape=(3, 227, 227), activation='relu', name='conv1_1', border_mode='same'))\n",
    "model.add(ZeroPadding2D((1, 1)))\n",
    "model.add(Convolution2D(64, 3, 3, activation='relu', name='conv1_2'))\n",
    "model.add(MaxPooling2D((2, 2), strides=(2, 2)))\n",
    "\n",
    "model.add(ZeroPadding2D((1, 1)))\n",
    "model.add(Convolution2D(128, 3, 3, activation='relu', name='conv2_1'))\n",
    "model.add(ZeroPadding2D((1, 1)))\n",
    "model.add(Convolution2D(128, 3, 3, activation='relu', name='conv2_2'))\n",
    "model.add(MaxPooling2D((2, 2), strides=(2, 2)))\n",
    "\n",
    "model.add(ZeroPadding2D((1, 1)))\n",
    "model.add(Convolution2D(256, 3, 3, activation='relu', name='conv3_1'))\n",
    "model.add(ZeroPadding2D((1, 1)))\n",
    "model.add(Convolution2D(256, 3, 3, activation='relu', name='conv3_2'))\n",
    "model.add(ZeroPadding2D((1, 1)))\n",
    "model.add(Convolution2D(256, 3, 3, activation='relu', name='conv3_3'))\n",
    "model.add(MaxPooling2D((2, 2), strides=(2, 2)))\n",
    "\n",
    "model.add(ZeroPadding2D((1, 1)))\n",
    "model.add(Convolution2D(512, 3, 3, activation='relu', name='conv4_1'))\n",
    "model.add(ZeroPadding2D((1, 1)))\n",
    "model.add(Convolution2D(512, 3, 3, activation='relu', name='conv4_2'))           # This will take more than a few seconds\n",
    "model.add(ZeroPadding2D((1, 1)))                                                 # but will finish quickly, just keep a \n",
    "model.add(Convolution2D(512, 3, 3, activation='relu', name='conv4_3'))           # watch on the [*]\n",
    "model.add(MaxPooling2D((2, 2), strides=(2, 2)))\n",
    "\n",
    "model.add(ZeroPadding2D((1, 1)))\n",
    "model.add(Convolution2D(512, 3, 3, activation='relu', name='conv5_1'))\n",
    "model.add(ZeroPadding2D((1, 1)))\n",
    "model.add(Convolution2D(512, 3, 3, activation='relu', name='conv5_2'))\n",
    "model.add(ZeroPadding2D((1, 1)))\n",
    "model.add(Convolution2D(512, 3, 3, activation='relu', name='conv5_3'))\n",
    "model.add(MaxPooling2D((2, 2), strides=(2, 2)))\n",
    "\n",
    "layer_dict = dict([(layer.name, layer) for layer in model.layers])\n"
   ]
  },
  {
   "cell_type": "code",
   "execution_count": 4,
   "metadata": {
    "collapsed": true
   },
   "outputs": [],
   "source": [
    "model.add(Flatten())\n",
    "model.add(Dense(output_dim=4096, activation='relu', init=\"uniform\"))\n",
    "model.add(Dense(output_dim=4096, init=\"uniform\", activation='relu'))        # Okey this one takes some time\n",
    "model.add(Dropout(0.5))                                                     # about 3 minutes and you'll be done\n",
    "model.add(Dense(output_dim=21, init=\"uniform\", activation='softmax'))       # You can probably start your systems now"
   ]
  },
  {
   "cell_type": "code",
   "execution_count": 5,
   "metadata": {
    "collapsed": true
   },
   "outputs": [],
   "source": [
    "f = h5py.File(\"cnn_weights.h5\")\n",
    "for k in range(f.attrs['nb_layers']):\n",
    "    if k >= len(model.layers):\n",
    "        # we don't look at the last (fully-connected) layers in the savefile\n",
    "        break\n",
    "    g = f['layer_{}'.format(k)]\n",
    "    weights = [g['param_{}'.format(p)] for p in range(g.attrs['nb_params'])]     # 2 minutes to this, won't take a lot\n",
    "    model.layers[k].set_weights(weights)                                          # of time\n",
    "f.close()"
   ]
  },
  {
   "cell_type": "code",
   "execution_count": 18,
   "metadata": {
    "collapsed": true
   },
   "outputs": [],
   "source": [
    "x = x.astype('float32')\n",
    "x_test = x_test.astype('float32')\n",
    "x /= 255\n",
    "x_test /= 255\n",
    "x = np.subtract(x,np.average(x))\n",
    "x_test = np.subtract(x_test,np.average(x_test))                    # This is necessary, data preprocessing\n",
    "y = np_utils.to_categorical(y, 21)                                 # takes about a second\n",
    "y_test = np_utils.to_categorical(y_test, 21)\n"
   ]
  },
  {
   "cell_type": "code",
   "execution_count": 14,
   "metadata": {
    "collapsed": true
   },
   "outputs": [],
   "source": [
    "sgd = SGD(lr=0.01, decay=5e-4, momentum=0.9, nesterov=True)        # gonna take 1.5-2 minutes\n",
    "model.compile(loss='categorical_crossentropy', optimizer=sgd)      # I've usually noted 80-90 seconds on this"
   ]
  },
  {
   "cell_type": "code",
   "execution_count": null,
   "metadata": {
    "collapsed": true
   },
   "outputs": [],
   "source": [
    "\n",
    "\n",
    "######################################################################################################################\n",
    "##                                                                                                                  ##\n",
    "##                     You can run this one and get back to your work, this is the training                         ##\n",
    "##                     of network. It is going to run for about 7-8 hours. If you're gonna                          ##\n",
    "##                     be in the lab for lesser time, (around 5 hours) change the number in                         ##\n",
    "##                     xrange to \"10\", If random timing then each epoch takes about 30 minutes                      ##\n",
    "##                     calculate wrt your time of stay and put the number accordingly. Thanks.                      ##\n",
    "##                                                                                                                  ##\n",
    "######################################################################################################################\n",
    "\n",
    "for i in xrange(15):                 \n",
    "    print \"\\n\"\n",
    "    print \"=\"*30\n",
    "    print \"\\n\"\n",
    "    print \"Training the epoch ...\", i\n",
    "    model.fit(x, y, nb_epoch=1, batch_size=16, verbose=1,show_accuracy=True, shuffle=True)\n",
    "    print model.evaluate(x_test, y_test, batch_size=16, show_accuracy=True)\n",
    "    print model.predict(x_test, batch_size=16)"
   ]
  },
  {
   "cell_type": "code",
   "execution_count": null,
   "metadata": {
    "collapsed": true
   },
   "outputs": [],
   "source": [
    "\n",
    "######################################################################################################################\n",
    "##                                                                                                                  ##\n",
    "##                     Run this once the above snippet stops. This is to save the trained                           ##\n",
    "##                     weights in order to be able to use them again. If you are going to                           ##\n",
    "##                     be in the lab for some more time then each epoch takes about 30                              ##\n",
    "##                     minutes, calculate your time of stay and put the number accordingly in                       ##\n",
    "##                     xrange snippet above and run it again. This has been the most helpful                        ##\n",
    "##                     thing for me. I am truly thankful for your cooperation. Thanks                               ##\n",
    "##                                                                                                                  ##\n",
    "######################################################################################################################\n",
    "\n",
    "\n",
    "\n",
    "model.save_weights(\"cnn_weights.h5\",overwrite=True)"
   ]
  },
  {
   "cell_type": "code",
   "execution_count": 19,
   "metadata": {
    "collapsed": false
   },
   "outputs": [
    {
     "data": {
      "text/plain": [
       "array([[ 1.,  0.,  0., ...,  0.,  0.,  0.],\n",
       "       [ 1.,  0.,  0., ...,  0.,  0.,  0.],\n",
       "       [ 0.,  1.,  0., ...,  0.,  0.,  0.],\n",
       "       ..., \n",
       "       [ 0.,  1.,  0., ...,  0.,  0.,  0.],\n",
       "       [ 0.,  1.,  0., ...,  0.,  0.,  0.],\n",
       "       [ 0.,  1.,  0., ...,  0.,  0.,  0.]])"
      ]
     },
     "execution_count": 19,
     "metadata": {},
     "output_type": "execute_result"
    }
   ],
   "source": [
    "y_test"
   ]
  },
  {
   "cell_type": "code",
   "execution_count": 21,
   "metadata": {
    "collapsed": false
   },
   "outputs": [],
   "source": [
    "yk = list(y_test)\n",
    "lst = []\n",
    "for i in yk:\n",
    "    i = list(i)\n",
    "    lst += [i.index(max(i))]\n",
    "print lst"
   ]
  },
  {
   "cell_type": "code",
   "execution_count": 23,
   "metadata": {
    "collapsed": false
   },
   "outputs": [],
   "source": [
    "preds = model.predict(x_test, batch_size=16)\n",
    "lst = []\n",
    "for i in preds:\n",
    "    i = list(i)\n",
    "    lst += [[i.index(max(i)), max(i)]]\n",
    "print lst"
   ]
  }
 ],
 "metadata": {
  "kernelspec": {
   "display_name": "Python 2",
   "language": "python",
   "name": "python2"
  },
  "language_info": {
   "codemirror_mode": {
    "name": "ipython",
    "version": 2
   },
   "file_extension": ".py",
   "mimetype": "text/x-python",
   "name": "python",
   "nbconvert_exporter": "python",
   "pygments_lexer": "ipython2",
   "version": "2.7.11"
  }
 },
 "nbformat": 4,
 "nbformat_minor": 0
}
