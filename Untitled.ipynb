{
 "cells": [
  {
   "cell_type": "code",
   "execution_count": 1,
   "metadata": {
    "collapsed": false
   },
   "outputs": [],
   "source": [
    "import numpy as np\n",
    "import cv2\n",
    "import keras\n",
    "from keras.models import Sequential\n",
    "from keras.layers import Dense, Dropout, Activation, Flatten\n",
    "from keras.layers import Convolution2D, MaxPooling2D\n",
    "from keras.optimizers import SGD, Adam\n",
    "from keras.models import Sequential\n",
    "from keras.layers import Convolution2D, ZeroPadding2D, MaxPooling2D\n",
    "from keras.layers import normalization\n",
    "import h5py\n",
    "from test import *\n",
    "from keras import backend as K\n",
    "import time\n",
    "from FaceRec.pretrained_cnn import *\n",
    "import FaceRec\n",
    "from FaceRec.net import *\n",
    "from FaceRec.get_input import *\n",
    "\n",
    "x,y = from_file()\n",
    "x_test, y_test = test_file()\n",
    "\n",
    "model = Sequential()\n",
    "model.add(Convolution2D(64, 3, 3,input_shape=(3, 227, 227), activation='relu', name='conv1_1', border_mode='same'))\n",
    "model.add(ZeroPadding2D((1, 1)))\n",
    "model.add(Convolution2D(64, 3, 3, activation='relu', name='conv1_2'))\n",
    "model.add(MaxPooling2D((2, 2), strides=(2, 2)))\n",
    "\n",
    "model.add(ZeroPadding2D((1, 1)))\n",
    "model.add(Convolution2D(128, 3, 3, activation='relu', name='conv2_1'))\n",
    "model.add(ZeroPadding2D((1, 1)))\n",
    "model.add(Convolution2D(128, 3, 3, activation='relu', name='conv2_2'))\n",
    "model.add(MaxPooling2D((2, 2), strides=(2, 2)))\n",
    "\n",
    "model.add(ZeroPadding2D((1, 1)))\n",
    "model.add(Convolution2D(256, 3, 3, activation='relu', name='conv3_1'))\n",
    "model.add(ZeroPadding2D((1, 1)))\n",
    "model.add(Convolution2D(256, 3, 3, activation='relu', name='conv3_2'))\n",
    "model.add(ZeroPadding2D((1, 1)))\n",
    "model.add(Convolution2D(256, 3, 3, activation='relu', name='conv3_3'))\n",
    "model.add(MaxPooling2D((2, 2), strides=(2, 2)))\n",
    "\n",
    "model.add(ZeroPadding2D((1, 1)))\n",
    "model.add(Convolution2D(512, 3, 3, activation='relu', name='conv4_1'))\n",
    "model.add(ZeroPadding2D((1, 1)))\n",
    "model.add(Convolution2D(512, 3, 3, activation='relu', name='conv4_2'))\n",
    "model.add(ZeroPadding2D((1, 1)))\n",
    "model.add(Convolution2D(512, 3, 3, activation='relu', name='conv4_3'))\n",
    "model.add(MaxPooling2D((2, 2), strides=(2, 2)))\n",
    "\n",
    "model.add(ZeroPadding2D((1, 1)))\n",
    "model.add(Convolution2D(512, 3, 3, activation='relu', name='conv5_1'))\n",
    "model.add(ZeroPadding2D((1, 1)))\n",
    "model.add(Convolution2D(512, 3, 3, activation='relu', name='conv5_2'))\n",
    "model.add(ZeroPadding2D((1, 1)))\n",
    "model.add(Convolution2D(512, 3, 3, activation='relu', name='conv5_3'))\n",
    "model.add(MaxPooling2D((2, 2), strides=(2, 2)))\n",
    "\n",
    "layer_dict = dict([(layer.name, layer) for layer in model.layers])"
   ]
  },
  {
   "cell_type": "code",
   "execution_count": 2,
   "metadata": {
    "collapsed": true
   },
   "outputs": [],
   "source": [
    "cnn = pretrained_cnn()\n",
    "\n",
    "for k in cnn[cnn.keys()[0]]:\n",
    "    for i in k:\n",
    "        a = i[0][0][1][0]\n",
    "        if 'conv' in a:\n",
    "            weight1 = np.rollaxis(i[0][0][2][0][0],3,start=0)\n",
    "            weight1 = np.rollaxis(weight1,3,start=1)\n",
    "            weight2 = np.rollaxis(i[0][0][2][0][1],1,start=0)[0]\n",
    "            weights = [weight1,weight2]\n",
    "            layer_dict[a].set_weights(weights)\n",
    "            print \"Weights added to\",a"
   ]
  },
  {
   "cell_type": "code",
   "execution_count": null,
   "metadata": {
    "collapsed": false
   },
   "outputs": [],
   "source": [
    "import numpy as np\n",
    "import cv2\n",
    "import keras\n",
    "from keras.models import Sequential\n",
    "from keras.layers import Dense, Dropout, Activation, Flatten\n",
    "from keras.layers import Convolution2D, MaxPooling2D\n",
    "from keras.optimizers import SGD, Adam\n",
    "from keras.models import Sequential\n",
    "from keras.layers import Convolution2D, ZeroPadding2D, MaxPooling2D\n",
    "from keras.layers import normalization\n",
    "import h5py\n",
    "from test import *\n",
    "from keras import backend as K\n",
    "import time\n",
    "from FaceRec.pretrained_cnn import *\n",
    "import FaceRec\n",
    "from FaceRec.net import *\n",
    "from FaceRec.get_input import *\n"
   ]
  },
  {
   "cell_type": "code",
   "execution_count": null,
   "metadata": {
    "collapsed": false
   },
   "outputs": [],
   "source": [
    "x,y = from_file()\n",
    "x_test, y_test = test_file()"
   ]
  },
  {
   "cell_type": "code",
   "execution_count": null,
   "metadata": {
    "collapsed": true
   },
   "outputs": [],
   "source": [
    "x"
   ]
  },
  {
   "cell_type": "code",
   "execution_count": null,
   "metadata": {
    "collapsed": false
   },
   "outputs": [],
   "source": [
    "model = Sequential()\n",
    "model.add(Convolution2D(64, 3, 3,input_shape=(3, 227, 227), activation='relu', name='conv1_1', border_mode='same'))\n",
    "model.add(ZeroPadding2D((1, 1)))\n",
    "model.add(Convolution2D(64, 3, 3, activation='relu', name='conv1_2'))\n",
    "model.add(MaxPooling2D((2, 2), strides=(2, 2)))\n",
    "\n",
    "model.add(ZeroPadding2D((1, 1)))\n",
    "model.add(Convolution2D(128, 3, 3, activation='relu', name='conv2_1'))\n",
    "model.add(ZeroPadding2D((1, 1)))\n",
    "model.add(Convolution2D(128, 3, 3, activation='relu', name='conv2_2'))\n",
    "model.add(MaxPooling2D((2, 2), strides=(2, 2)))\n",
    "\n",
    "model.add(ZeroPadding2D((1, 1)))\n",
    "model.add(Convolution2D(256, 3, 3, activation='relu', name='conv3_1'))\n",
    "model.add(ZeroPadding2D((1, 1)))\n",
    "model.add(Convolution2D(256, 3, 3, activation='relu', name='conv3_2'))\n",
    "model.add(ZeroPadding2D((1, 1)))\n",
    "model.add(Convolution2D(256, 3, 3, activation='relu', name='conv3_3'))\n",
    "model.add(MaxPooling2D((2, 2), strides=(2, 2)))\n",
    "\n",
    "model.add(ZeroPadding2D((1, 1)))\n",
    "model.add(Convolution2D(512, 3, 3, activation='relu', name='conv4_1'))\n",
    "model.add(ZeroPadding2D((1, 1)))\n",
    "model.add(Convolution2D(512, 3, 3, activation='relu', name='conv4_2'))\n",
    "model.add(ZeroPadding2D((1, 1)))\n",
    "model.add(Convolution2D(512, 3, 3, activation='relu', name='conv4_3'))\n",
    "model.add(MaxPooling2D((2, 2), strides=(2, 2)))\n",
    "\n",
    "model.add(ZeroPadding2D((1, 1)))\n",
    "model.add(Convolution2D(512, 3, 3, activation='relu', name='conv5_1'))\n",
    "model.add(ZeroPadding2D((1, 1)))\n",
    "model.add(Convolution2D(512, 3, 3, activation='relu', name='conv5_2'))\n",
    "model.add(ZeroPadding2D((1, 1)))\n",
    "model.add(Convolution2D(512, 3, 3, activation='relu', name='conv5_3'))\n",
    "model.add(MaxPooling2D((2, 2), strides=(2, 2)))\n",
    "\n",
    "layer_dict = dict([(layer.name, layer) for layer in model.layers])"
   ]
  },
  {
   "cell_type": "code",
   "execution_count": null,
   "metadata": {
    "collapsed": false
   },
   "outputs": [],
   "source": [
    "cnn = pretrained_cnn()\n",
    "\n",
    "for k in cnn[cnn.keys()[0]]:\n",
    "    for i in k:\n",
    "        a = i[0][0][1][0]\n",
    "        if 'conv' in a:\n",
    "            weight1 = np.rollaxis(i[0][0][2][0][0],3,start=0)\n",
    "            weight1 = np.rollaxis(weight1,3,start=1)\n",
    "            weight2 = np.rollaxis(i[0][0][2][0][1],1,start=0)[0]\n",
    "            weights = [weight1,weight2]\n",
    "            layer_dict[a].set_weights(weights)\n",
    "            print \"Weights added to\",a\n"
   ]
  },
  {
   "cell_type": "code",
   "execution_count": null,
   "metadata": {
    "collapsed": false
   },
   "outputs": [],
   "source": [
    "print (\"Hello\")"
   ]
  },
  {
   "cell_type": "code",
   "execution_count": null,
   "metadata": {
    "collapsed": true
   },
   "outputs": [],
   "source": [
    "print (\"not printing\")"
   ]
  },
  {
   "cell_type": "code",
   "execution_count": null,
   "metadata": {
    "collapsed": false
   },
   "outputs": [],
   "source": [
    "return \"Hello\""
   ]
  },
  {
   "cell_type": "code",
   "execution_count": 3,
   "metadata": {
    "collapsed": false
   },
   "outputs": [],
   "source": [
    "model.add(Flatten())\n",
    "model.add(Dense(output_dim=4096, activation='relu', init=\"uniform\"))\n",
    "model.add(Dense(output_dim=4096, init=\"uniform\", activation='relu'))\n",
    "model.add(Dense(output_dim=7, init=\"uniform\", activation='softmax'))\n"
   ]
  },
  {
   "cell_type": "code",
   "execution_count": null,
   "metadata": {
    "collapsed": false
   },
   "outputs": [],
   "source": [
    "import sys\n",
    "#reload(sys)\n",
    "#sys.setdefaultencoding(\"utf-8\")"
   ]
  },
  {
   "cell_type": "code",
   "execution_count": 3,
   "metadata": {
    "collapsed": false
   },
   "outputs": [
    {
     "name": "stdout",
     "output_type": "stream",
     "text": [
      "Hello\n"
     ]
    }
   ],
   "source": [
    "print \"Hello\""
   ]
  },
  {
   "cell_type": "code",
   "execution_count": 1,
   "metadata": {
    "collapsed": true
   },
   "outputs": [],
   "source": [
    "import numpy as np\n",
    "import cv2\n",
    "import keras\n",
    "from keras.models import Sequential\n",
    "from keras.layers import Dense, Dropout, Activation, Flatten\n",
    "from keras.layers import Convolution2D, MaxPooling2D\n",
    "from keras.optimizers import SGD, Adam\n",
    "from keras.models import Sequential\n",
    "from keras.layers import Convolution2D, ZeroPadding2D, MaxPooling2D\n",
    "from keras.layers import normalization\n",
    "import h5py\n",
    "from test import *\n",
    "from keras import backend as K\n",
    "import time\n",
    "from FaceRec.pretrained_cnn import *\n",
    "import FaceRec\n",
    "from FaceRec.net import *\n",
    "from FaceRec.get_input import *\n"
   ]
  },
  {
   "cell_type": "code",
   "execution_count": 2,
   "metadata": {
    "collapsed": true
   },
   "outputs": [],
   "source": [
    "x,y = from_file()\n",
    "x_test, y_test = test_file()"
   ]
  },
  {
   "cell_type": "code",
   "execution_count": 5,
   "metadata": {
    "collapsed": true
   },
   "outputs": [],
   "source": [
    "model = Sequential()\n",
    "model.add(Convolution2D(64, 3, 3,input_shape=(3, 227, 227), activation='relu', name='conv1_1', border_mode='same'))\n",
    "model.add(ZeroPadding2D((1, 1)))\n",
    "model.add(Convolution2D(64, 3, 3, activation='relu', name='conv1_2'))\n",
    "model.add(MaxPooling2D((2, 2), strides=(2, 2)))\n",
    "\n",
    "model.add(ZeroPadding2D((1, 1)))\n",
    "model.add(Convolution2D(128, 3, 3, activation='relu', name='conv2_1'))\n",
    "model.add(ZeroPadding2D((1, 1)))\n",
    "model.add(Convolution2D(128, 3, 3, activation='relu', name='conv2_2'))\n",
    "model.add(MaxPooling2D((2, 2), strides=(2, 2)))\n",
    "\n",
    "model.add(ZeroPadding2D((1, 1)))\n",
    "model.add(Convolution2D(256, 3, 3, activation='relu', name='conv3_1'))\n",
    "model.add(ZeroPadding2D((1, 1)))\n",
    "model.add(Convolution2D(256, 3, 3, activation='relu', name='conv3_2'))\n",
    "model.add(ZeroPadding2D((1, 1)))\n",
    "model.add(Convolution2D(256, 3, 3, activation='relu', name='conv3_3'))\n",
    "model.add(MaxPooling2D((2, 2), strides=(2, 2)))\n",
    "\n",
    "model.add(ZeroPadding2D((1, 1)))\n",
    "model.add(Convolution2D(512, 3, 3, activation='relu', name='conv4_1'))\n",
    "model.add(ZeroPadding2D((1, 1)))\n",
    "model.add(Convolution2D(512, 3, 3, activation='relu', name='conv4_2'))\n",
    "model.add(ZeroPadding2D((1, 1)))\n",
    "model.add(Convolution2D(512, 3, 3, activation='relu', name='conv4_3'))\n",
    "model.add(MaxPooling2D((2, 2), strides=(2, 2)))\n",
    "\n",
    "model.add(ZeroPadding2D((1, 1)))\n",
    "model.add(Convolution2D(512, 3, 3, activation='relu', name='conv5_1'))\n",
    "model.add(ZeroPadding2D((1, 1)))\n",
    "model.add(Convolution2D(512, 3, 3, activation='relu', name='conv5_2'))\n",
    "model.add(ZeroPadding2D((1, 1)))\n",
    "model.add(Convolution2D(512, 3, 3, activation='relu', name='conv5_3'))\n",
    "model.add(MaxPooling2D((2, 2), strides=(2, 2)))\n"
   ]
  },
  {
   "cell_type": "code",
   "execution_count": 6,
   "metadata": {
    "collapsed": false
   },
   "outputs": [],
   "source": [
    "layer_dict = dict([(layer.name, layer) for layer in model.layers])\n",
    "\n",
    "cnn = pretrained_cnn()"
   ]
  },
  {
   "cell_type": "code",
   "execution_count": 7,
   "metadata": {
    "collapsed": true
   },
   "outputs": [],
   "source": [
    "for k in cnn[cnn.keys()[0]]:\n",
    "    for i in k:\n",
    "        a = i[0][0][1][0]\n",
    "        if 'conv' in a:\n",
    "            weight1 = np.rollaxis(i[0][0][2][0][0],3,start=0)\n",
    "            weight1 = np.rollaxis(weight1,3,start=1)\n",
    "            weight2 = np.rollaxis(i[0][0][2][0][1],1,start=0)[0]\n",
    "            weights = [weight1,weight2]\n",
    "            layer_dict[a].set_weights(weights)\n",
    "            print \"Weights added to\",a\n"
   ]
  },
  {
   "cell_type": "code",
   "execution_count": 8,
   "metadata": {
    "collapsed": true
   },
   "outputs": [],
   "source": [
    "model.add(Flatten())\n",
    "model.add(Dense(output_dim=4096, activation='relu', init=\"uniform\"))\n",
    "model.add(Dense(output_dim=4096, init=\"uniform\", activation='relu'))\n",
    "model.add(Dropout(0.5))\n",
    "model.add(Dense(output_dim=7, init=\"uniform\", activation='softmax'))"
   ]
  },
  {
   "cell_type": "code",
   "execution_count": 4,
   "metadata": {
    "collapsed": false,
    "scrolled": true
   },
   "outputs": [
    {
     "ename": "KeyboardInterrupt",
     "evalue": "",
     "output_type": "error",
     "traceback": [
      "\u001b[0;31m---------------------------------------------------------------------------\u001b[0m",
      "\u001b[0;31mKeyboardInterrupt\u001b[0m                         Traceback (most recent call last)",
      "\u001b[0;32m<ipython-input-4-5d5e07a24d68>\u001b[0m in \u001b[0;36m<module>\u001b[0;34m()\u001b[0m\n\u001b[1;32m      4\u001b[0m     \u001b[0;32mif\u001b[0m \u001b[0;34m(\u001b[0m\u001b[0mi\u001b[0m\u001b[0;34m+\u001b[0m\u001b[0;36m1\u001b[0m\u001b[0;34m)\u001b[0m\u001b[0;34m*\u001b[0m\u001b[0;36m16\u001b[0m \u001b[0;34m>\u001b[0m \u001b[0;36m87\u001b[0m\u001b[0;34m:\u001b[0m\u001b[0;34m\u001b[0m\u001b[0m\n\u001b[1;32m      5\u001b[0m         \u001b[0;32mbreak\u001b[0m\u001b[0;34m\u001b[0m\u001b[0m\n\u001b[0;32m----> 6\u001b[0;31m     \u001b[0mmodel\u001b[0m\u001b[0;34m.\u001b[0m\u001b[0mtrain_on_batch\u001b[0m\u001b[0;34m(\u001b[0m\u001b[0mx\u001b[0m\u001b[0;34m[\u001b[0m\u001b[0mi\u001b[0m\u001b[0;34m*\u001b[0m\u001b[0;36m16\u001b[0m\u001b[0;34m:\u001b[0m\u001b[0;34m(\u001b[0m\u001b[0mi\u001b[0m\u001b[0;34m+\u001b[0m\u001b[0;36m1\u001b[0m\u001b[0;34m)\u001b[0m\u001b[0;34m*\u001b[0m\u001b[0;36m16\u001b[0m\u001b[0;34m]\u001b[0m\u001b[0;34m,\u001b[0m \u001b[0my\u001b[0m\u001b[0;34m[\u001b[0m\u001b[0;34m(\u001b[0m\u001b[0mi\u001b[0m\u001b[0;34m)\u001b[0m\u001b[0;34m*\u001b[0m\u001b[0;36m16\u001b[0m\u001b[0;34m:\u001b[0m\u001b[0;34m(\u001b[0m\u001b[0mi\u001b[0m\u001b[0;34m+\u001b[0m\u001b[0;36m1\u001b[0m\u001b[0;34m)\u001b[0m\u001b[0;34m*\u001b[0m\u001b[0;36m16\u001b[0m\u001b[0;34m]\u001b[0m\u001b[0;34m,\u001b[0m \u001b[0maccuracy\u001b[0m\u001b[0;34m=\u001b[0m\u001b[0mTrue\u001b[0m\u001b[0;34m)\u001b[0m\u001b[0;34m\u001b[0m\u001b[0m\n\u001b[0m\u001b[1;32m      7\u001b[0m     \u001b[0;32mprint\u001b[0m \u001b[0mmodel\u001b[0m\u001b[0;34m.\u001b[0m\u001b[0mevaluate\u001b[0m\u001b[0;34m(\u001b[0m\u001b[0mx_test\u001b[0m\u001b[0;34m,\u001b[0m \u001b[0my_test\u001b[0m\u001b[0;34m,\u001b[0m \u001b[0mbatch_size\u001b[0m\u001b[0;34m=\u001b[0m\u001b[0;36m4\u001b[0m\u001b[0;34m,\u001b[0m \u001b[0mshow_accuracy\u001b[0m\u001b[0;34m=\u001b[0m\u001b[0mTrue\u001b[0m\u001b[0;34m)\u001b[0m\u001b[0;34m\u001b[0m\u001b[0m\n\u001b[1;32m      8\u001b[0m     \u001b[0;32mprint\u001b[0m \u001b[0mmodel\u001b[0m\u001b[0;34m.\u001b[0m\u001b[0mpredict\u001b[0m\u001b[0;34m(\u001b[0m\u001b[0mx_test\u001b[0m\u001b[0;34m,\u001b[0m \u001b[0mbatch_size\u001b[0m\u001b[0;34m=\u001b[0m\u001b[0;36m4\u001b[0m\u001b[0;34m)\u001b[0m\u001b[0;34m\u001b[0m\u001b[0m\n",
      "\u001b[0;32m/Users/admin/anaconda/lib/python2.7/site-packages/keras/models.pyc\u001b[0m in \u001b[0;36mtrain_on_batch\u001b[0;34m(self, X, y, accuracy, class_weight, sample_weight)\u001b[0m\n\u001b[1;32m    768\u001b[0m         \u001b[0mins\u001b[0m \u001b[0;34m=\u001b[0m \u001b[0mX\u001b[0m \u001b[0;34m+\u001b[0m \u001b[0;34m[\u001b[0m\u001b[0my\u001b[0m\u001b[0;34m,\u001b[0m \u001b[0msample_weight\u001b[0m\u001b[0;34m]\u001b[0m\u001b[0;34m\u001b[0m\u001b[0m\n\u001b[1;32m    769\u001b[0m         \u001b[0;32mif\u001b[0m \u001b[0maccuracy\u001b[0m\u001b[0;34m:\u001b[0m\u001b[0;34m\u001b[0m\u001b[0m\n\u001b[0;32m--> 770\u001b[0;31m             \u001b[0;32mreturn\u001b[0m \u001b[0mself\u001b[0m\u001b[0;34m.\u001b[0m\u001b[0m_train_with_acc\u001b[0m\u001b[0;34m(\u001b[0m\u001b[0mins\u001b[0m\u001b[0;34m)\u001b[0m\u001b[0;34m\u001b[0m\u001b[0m\n\u001b[0m\u001b[1;32m    771\u001b[0m         \u001b[0;32melse\u001b[0m\u001b[0;34m:\u001b[0m\u001b[0;34m\u001b[0m\u001b[0m\n\u001b[1;32m    772\u001b[0m             \u001b[0;32mreturn\u001b[0m \u001b[0mself\u001b[0m\u001b[0;34m.\u001b[0m\u001b[0m_train\u001b[0m\u001b[0;34m(\u001b[0m\u001b[0mins\u001b[0m\u001b[0;34m)\u001b[0m\u001b[0;34m\u001b[0m\u001b[0m\n",
      "\u001b[0;32m/Users/admin/anaconda/lib/python2.7/site-packages/keras/backend/tensorflow_backend.pyc\u001b[0m in \u001b[0;36m__call__\u001b[0;34m(self, inputs)\u001b[0m\n\u001b[1;32m    376\u001b[0m         \u001b[0mfeed_dict\u001b[0m \u001b[0;34m=\u001b[0m \u001b[0mdict\u001b[0m\u001b[0;34m(\u001b[0m\u001b[0mzip\u001b[0m\u001b[0;34m(\u001b[0m\u001b[0mnames\u001b[0m\u001b[0;34m,\u001b[0m \u001b[0minputs\u001b[0m\u001b[0;34m)\u001b[0m\u001b[0;34m)\u001b[0m\u001b[0;34m\u001b[0m\u001b[0m\n\u001b[1;32m    377\u001b[0m         \u001b[0msession\u001b[0m \u001b[0;34m=\u001b[0m \u001b[0m_get_session\u001b[0m\u001b[0;34m(\u001b[0m\u001b[0;34m)\u001b[0m\u001b[0;34m\u001b[0m\u001b[0m\n\u001b[0;32m--> 378\u001b[0;31m         \u001b[0mupdated\u001b[0m \u001b[0;34m=\u001b[0m \u001b[0msession\u001b[0m\u001b[0;34m.\u001b[0m\u001b[0mrun\u001b[0m\u001b[0;34m(\u001b[0m\u001b[0mself\u001b[0m\u001b[0;34m.\u001b[0m\u001b[0moutputs\u001b[0m \u001b[0;34m+\u001b[0m \u001b[0mself\u001b[0m\u001b[0;34m.\u001b[0m\u001b[0mupdates\u001b[0m\u001b[0;34m,\u001b[0m \u001b[0mfeed_dict\u001b[0m\u001b[0;34m=\u001b[0m\u001b[0mfeed_dict\u001b[0m\u001b[0;34m)\u001b[0m\u001b[0;34m\u001b[0m\u001b[0m\n\u001b[0m\u001b[1;32m    379\u001b[0m         \u001b[0;32mreturn\u001b[0m \u001b[0mupdated\u001b[0m\u001b[0;34m[\u001b[0m\u001b[0;34m:\u001b[0m\u001b[0mlen\u001b[0m\u001b[0;34m(\u001b[0m\u001b[0mself\u001b[0m\u001b[0;34m.\u001b[0m\u001b[0moutputs\u001b[0m\u001b[0;34m)\u001b[0m\u001b[0;34m]\u001b[0m\u001b[0;34m\u001b[0m\u001b[0m\n\u001b[1;32m    380\u001b[0m \u001b[0;34m\u001b[0m\u001b[0m\n",
      "\u001b[0;32m/Users/admin/anaconda/lib/python2.7/site-packages/tensorflow/python/client/session.pyc\u001b[0m in \u001b[0;36mrun\u001b[0;34m(self, fetches, feed_dict)\u001b[0m\n\u001b[1;32m    313\u001b[0m         \u001b[0;34m`\u001b[0m\u001b[0mTensor\u001b[0m\u001b[0;34m`\u001b[0m \u001b[0mthat\u001b[0m \u001b[0mdoesn\u001b[0m\u001b[0;31m'\u001b[0m\u001b[0mt\u001b[0m \u001b[0mexist\u001b[0m\u001b[0;34m.\u001b[0m\u001b[0;34m\u001b[0m\u001b[0m\n\u001b[1;32m    314\u001b[0m     \"\"\"\n\u001b[0;32m--> 315\u001b[0;31m     \u001b[0;32mreturn\u001b[0m \u001b[0mself\u001b[0m\u001b[0;34m.\u001b[0m\u001b[0m_run\u001b[0m\u001b[0;34m(\u001b[0m\u001b[0mNone\u001b[0m\u001b[0;34m,\u001b[0m \u001b[0mfetches\u001b[0m\u001b[0;34m,\u001b[0m \u001b[0mfeed_dict\u001b[0m\u001b[0;34m)\u001b[0m\u001b[0;34m\u001b[0m\u001b[0m\n\u001b[0m\u001b[1;32m    316\u001b[0m \u001b[0;34m\u001b[0m\u001b[0m\n\u001b[1;32m    317\u001b[0m   \u001b[0;32mdef\u001b[0m \u001b[0mpartial_run\u001b[0m\u001b[0;34m(\u001b[0m\u001b[0mself\u001b[0m\u001b[0;34m,\u001b[0m \u001b[0mhandle\u001b[0m\u001b[0;34m,\u001b[0m \u001b[0mfetches\u001b[0m\u001b[0;34m,\u001b[0m \u001b[0mfeed_dict\u001b[0m\u001b[0;34m=\u001b[0m\u001b[0mNone\u001b[0m\u001b[0;34m)\u001b[0m\u001b[0;34m:\u001b[0m\u001b[0;34m\u001b[0m\u001b[0m\n",
      "\u001b[0;32m/Users/admin/anaconda/lib/python2.7/site-packages/tensorflow/python/client/session.pyc\u001b[0m in \u001b[0;36m_run\u001b[0;34m(self, handle, fetches, feed_dict)\u001b[0m\n\u001b[1;32m    509\u001b[0m     \u001b[0;31m# Run request and get response.\u001b[0m\u001b[0;34m\u001b[0m\u001b[0;34m\u001b[0m\u001b[0m\n\u001b[1;32m    510\u001b[0m     results = self._do_run(handle, target_list, unique_fetches,\n\u001b[0;32m--> 511\u001b[0;31m                            feed_dict_string)\n\u001b[0m\u001b[1;32m    512\u001b[0m \u001b[0;34m\u001b[0m\u001b[0m\n\u001b[1;32m    513\u001b[0m     \u001b[0;31m# User may have fetched the same tensor multiple times, but we\u001b[0m\u001b[0;34m\u001b[0m\u001b[0;34m\u001b[0m\u001b[0m\n",
      "\u001b[0;32m/Users/admin/anaconda/lib/python2.7/site-packages/tensorflow/python/client/session.pyc\u001b[0m in \u001b[0;36m_do_run\u001b[0;34m(self, handle, target_list, fetch_list, feed_dict)\u001b[0m\n\u001b[1;32m    562\u001b[0m     \u001b[0;32mif\u001b[0m \u001b[0mhandle\u001b[0m \u001b[0;32mis\u001b[0m \u001b[0mNone\u001b[0m\u001b[0;34m:\u001b[0m\u001b[0;34m\u001b[0m\u001b[0m\n\u001b[1;32m    563\u001b[0m       return self._do_call(_run_fn, self._session, feed_dict, fetch_list,\n\u001b[0;32m--> 564\u001b[0;31m                            target_list)\n\u001b[0m\u001b[1;32m    565\u001b[0m     \u001b[0;32melse\u001b[0m\u001b[0;34m:\u001b[0m\u001b[0;34m\u001b[0m\u001b[0m\n\u001b[1;32m    566\u001b[0m       return self._do_call(_prun_fn, self._session, handle, feed_dict,\n",
      "\u001b[0;32m/Users/admin/anaconda/lib/python2.7/site-packages/tensorflow/python/client/session.pyc\u001b[0m in \u001b[0;36m_do_call\u001b[0;34m(self, fn, *args)\u001b[0m\n\u001b[1;32m    569\u001b[0m   \u001b[0;32mdef\u001b[0m \u001b[0m_do_call\u001b[0m\u001b[0;34m(\u001b[0m\u001b[0mself\u001b[0m\u001b[0;34m,\u001b[0m \u001b[0mfn\u001b[0m\u001b[0;34m,\u001b[0m \u001b[0;34m*\u001b[0m\u001b[0margs\u001b[0m\u001b[0;34m)\u001b[0m\u001b[0;34m:\u001b[0m\u001b[0;34m\u001b[0m\u001b[0m\n\u001b[1;32m    570\u001b[0m     \u001b[0;32mtry\u001b[0m\u001b[0;34m:\u001b[0m\u001b[0;34m\u001b[0m\u001b[0m\n\u001b[0;32m--> 571\u001b[0;31m       \u001b[0;32mreturn\u001b[0m \u001b[0mfn\u001b[0m\u001b[0;34m(\u001b[0m\u001b[0;34m*\u001b[0m\u001b[0margs\u001b[0m\u001b[0;34m)\u001b[0m\u001b[0;34m\u001b[0m\u001b[0m\n\u001b[0m\u001b[1;32m    572\u001b[0m     \u001b[0;32mexcept\u001b[0m \u001b[0mtf_session\u001b[0m\u001b[0;34m.\u001b[0m\u001b[0mStatusNotOK\u001b[0m \u001b[0;32mas\u001b[0m \u001b[0me\u001b[0m\u001b[0;34m:\u001b[0m\u001b[0;34m\u001b[0m\u001b[0m\n\u001b[1;32m    573\u001b[0m       \u001b[0me_type\u001b[0m\u001b[0;34m,\u001b[0m \u001b[0me_value\u001b[0m\u001b[0;34m,\u001b[0m \u001b[0me_traceback\u001b[0m \u001b[0;34m=\u001b[0m \u001b[0msys\u001b[0m\u001b[0;34m.\u001b[0m\u001b[0mexc_info\u001b[0m\u001b[0;34m(\u001b[0m\u001b[0;34m)\u001b[0m\u001b[0;34m\u001b[0m\u001b[0m\n",
      "\u001b[0;32m/Users/admin/anaconda/lib/python2.7/site-packages/tensorflow/python/client/session.pyc\u001b[0m in \u001b[0;36m_run_fn\u001b[0;34m(session, feed_dict, fetch_list, target_list)\u001b[0m\n\u001b[1;32m    553\u001b[0m       \u001b[0;31m# Ensure any changes to the graph are reflected in the runtime.\u001b[0m\u001b[0;34m\u001b[0m\u001b[0;34m\u001b[0m\u001b[0m\n\u001b[1;32m    554\u001b[0m       \u001b[0mself\u001b[0m\u001b[0;34m.\u001b[0m\u001b[0m_extend_graph\u001b[0m\u001b[0;34m(\u001b[0m\u001b[0;34m)\u001b[0m\u001b[0;34m\u001b[0m\u001b[0m\n\u001b[0;32m--> 555\u001b[0;31m       \u001b[0;32mreturn\u001b[0m \u001b[0mtf_session\u001b[0m\u001b[0;34m.\u001b[0m\u001b[0mTF_Run\u001b[0m\u001b[0;34m(\u001b[0m\u001b[0msession\u001b[0m\u001b[0;34m,\u001b[0m \u001b[0mfeed_dict\u001b[0m\u001b[0;34m,\u001b[0m \u001b[0mfetch_list\u001b[0m\u001b[0;34m,\u001b[0m \u001b[0mtarget_list\u001b[0m\u001b[0;34m)\u001b[0m\u001b[0;34m\u001b[0m\u001b[0m\n\u001b[0m\u001b[1;32m    556\u001b[0m \u001b[0;34m\u001b[0m\u001b[0m\n\u001b[1;32m    557\u001b[0m     \u001b[0;32mdef\u001b[0m \u001b[0m_prun_fn\u001b[0m\u001b[0;34m(\u001b[0m\u001b[0msession\u001b[0m\u001b[0;34m,\u001b[0m \u001b[0mhandle\u001b[0m\u001b[0;34m,\u001b[0m \u001b[0mfeed_dict\u001b[0m\u001b[0;34m,\u001b[0m \u001b[0mfetch_list\u001b[0m\u001b[0;34m)\u001b[0m\u001b[0;34m:\u001b[0m\u001b[0;34m\u001b[0m\u001b[0m\n",
      "\u001b[0;31mKeyboardInterrupt\u001b[0m: "
     ]
    }
   ],
   "source": [
    "sgd = SGD(lr=0.1, decay=1e-4, momentum=0.9, nesterov=True)\n",
    "model.compile(loss='categorical_crossentropy', optimizer=sgd)\n",
    "for i in xrange(10):\n",
    "    if (i+1)*16 > 87:\n",
    "        break\n",
    "    model.train_on_batch(x[i*16:(i+1)*16], y[(i)*16:(i+1)*16], accuracy=True)\n",
    "    print model.evaluate(x_test, y_test, batch_size=4, show_accuracy=True)\n",
    "    print model.predict(x_test, batch_size=4)\n",
    "\n"
   ]
  },
  {
   "cell_type": "code",
   "execution_count": null,
   "metadata": {
    "collapsed": true
   },
   "outputs": [],
   "source": []
  },
  {
   "cell_type": "code",
   "execution_count": 7,
   "metadata": {
    "collapsed": false
   },
   "outputs": [
    {
     "ename": "KeyboardInterrupt",
     "evalue": "",
     "output_type": "error",
     "traceback": [
      "\u001b[0;31m---------------------------------------------------------------------------\u001b[0m",
      "\u001b[0;31mKeyboardInterrupt\u001b[0m                         Traceback (most recent call last)",
      "\u001b[0;32m<ipython-input-7-f7a5b18bdbde>\u001b[0m in \u001b[0;36m<module>\u001b[0;34m()\u001b[0m\n\u001b[1;32m      4\u001b[0m     \u001b[0;32mif\u001b[0m \u001b[0;34m(\u001b[0m\u001b[0mi\u001b[0m\u001b[0;34m+\u001b[0m\u001b[0;36m1\u001b[0m\u001b[0;34m)\u001b[0m\u001b[0;34m*\u001b[0m\u001b[0;36m16\u001b[0m \u001b[0;34m>\u001b[0m \u001b[0;36m87\u001b[0m\u001b[0;34m:\u001b[0m\u001b[0;34m\u001b[0m\u001b[0m\n\u001b[1;32m      5\u001b[0m         \u001b[0;32mbreak\u001b[0m\u001b[0;34m\u001b[0m\u001b[0m\n\u001b[0;32m----> 6\u001b[0;31m     \u001b[0mmodel\u001b[0m\u001b[0;34m.\u001b[0m\u001b[0mtrain_on_batch\u001b[0m\u001b[0;34m(\u001b[0m\u001b[0mx\u001b[0m\u001b[0;34m[\u001b[0m\u001b[0mi\u001b[0m\u001b[0;34m*\u001b[0m\u001b[0;36m16\u001b[0m\u001b[0;34m:\u001b[0m\u001b[0;34m(\u001b[0m\u001b[0mi\u001b[0m\u001b[0;34m+\u001b[0m\u001b[0;36m1\u001b[0m\u001b[0;34m)\u001b[0m\u001b[0;34m*\u001b[0m\u001b[0;36m16\u001b[0m\u001b[0;34m]\u001b[0m\u001b[0;34m,\u001b[0m \u001b[0my\u001b[0m\u001b[0;34m[\u001b[0m\u001b[0;34m(\u001b[0m\u001b[0mi\u001b[0m\u001b[0;34m)\u001b[0m\u001b[0;34m*\u001b[0m\u001b[0;36m16\u001b[0m\u001b[0;34m:\u001b[0m\u001b[0;34m(\u001b[0m\u001b[0mi\u001b[0m\u001b[0;34m+\u001b[0m\u001b[0;36m1\u001b[0m\u001b[0;34m)\u001b[0m\u001b[0;34m*\u001b[0m\u001b[0;36m16\u001b[0m\u001b[0;34m]\u001b[0m\u001b[0;34m,\u001b[0m \u001b[0maccuracy\u001b[0m\u001b[0;34m=\u001b[0m\u001b[0mTrue\u001b[0m\u001b[0;34m)\u001b[0m\u001b[0;34m\u001b[0m\u001b[0m\n\u001b[0m\u001b[1;32m      7\u001b[0m     \u001b[0;32mprint\u001b[0m \u001b[0mmodel\u001b[0m\u001b[0;34m.\u001b[0m\u001b[0mevaluate\u001b[0m\u001b[0;34m(\u001b[0m\u001b[0mx_test\u001b[0m\u001b[0;34m,\u001b[0m \u001b[0my_test\u001b[0m\u001b[0;34m,\u001b[0m \u001b[0mbatch_size\u001b[0m\u001b[0;34m=\u001b[0m\u001b[0;36m1\u001b[0m\u001b[0;34m,\u001b[0m \u001b[0mshow_accuracy\u001b[0m\u001b[0;34m=\u001b[0m\u001b[0mTrue\u001b[0m\u001b[0;34m)\u001b[0m\u001b[0;34m\u001b[0m\u001b[0m\n\u001b[1;32m      8\u001b[0m     \u001b[0;32mprint\u001b[0m \u001b[0mmodel\u001b[0m\u001b[0;34m.\u001b[0m\u001b[0mpredict\u001b[0m\u001b[0;34m(\u001b[0m\u001b[0mx_test\u001b[0m\u001b[0;34m,\u001b[0m \u001b[0mbatch_size\u001b[0m\u001b[0;34m=\u001b[0m\u001b[0;36m1\u001b[0m\u001b[0;34m)\u001b[0m\u001b[0;34m\u001b[0m\u001b[0m\n",
      "\u001b[0;32m/Users/admin/anaconda/lib/python2.7/site-packages/keras/models.pyc\u001b[0m in \u001b[0;36mtrain_on_batch\u001b[0;34m(self, X, y, accuracy, class_weight, sample_weight)\u001b[0m\n\u001b[1;32m    768\u001b[0m         \u001b[0mins\u001b[0m \u001b[0;34m=\u001b[0m \u001b[0mX\u001b[0m \u001b[0;34m+\u001b[0m \u001b[0;34m[\u001b[0m\u001b[0my\u001b[0m\u001b[0;34m,\u001b[0m \u001b[0msample_weight\u001b[0m\u001b[0;34m]\u001b[0m\u001b[0;34m\u001b[0m\u001b[0m\n\u001b[1;32m    769\u001b[0m         \u001b[0;32mif\u001b[0m \u001b[0maccuracy\u001b[0m\u001b[0;34m:\u001b[0m\u001b[0;34m\u001b[0m\u001b[0m\n\u001b[0;32m--> 770\u001b[0;31m             \u001b[0;32mreturn\u001b[0m \u001b[0mself\u001b[0m\u001b[0;34m.\u001b[0m\u001b[0m_train_with_acc\u001b[0m\u001b[0;34m(\u001b[0m\u001b[0mins\u001b[0m\u001b[0;34m)\u001b[0m\u001b[0;34m\u001b[0m\u001b[0m\n\u001b[0m\u001b[1;32m    771\u001b[0m         \u001b[0;32melse\u001b[0m\u001b[0;34m:\u001b[0m\u001b[0;34m\u001b[0m\u001b[0m\n\u001b[1;32m    772\u001b[0m             \u001b[0;32mreturn\u001b[0m \u001b[0mself\u001b[0m\u001b[0;34m.\u001b[0m\u001b[0m_train\u001b[0m\u001b[0;34m(\u001b[0m\u001b[0mins\u001b[0m\u001b[0;34m)\u001b[0m\u001b[0;34m\u001b[0m\u001b[0m\n",
      "\u001b[0;32m/Users/admin/anaconda/lib/python2.7/site-packages/keras/backend/tensorflow_backend.pyc\u001b[0m in \u001b[0;36m__call__\u001b[0;34m(self, inputs)\u001b[0m\n\u001b[1;32m    376\u001b[0m         \u001b[0mfeed_dict\u001b[0m \u001b[0;34m=\u001b[0m \u001b[0mdict\u001b[0m\u001b[0;34m(\u001b[0m\u001b[0mzip\u001b[0m\u001b[0;34m(\u001b[0m\u001b[0mnames\u001b[0m\u001b[0;34m,\u001b[0m \u001b[0minputs\u001b[0m\u001b[0;34m)\u001b[0m\u001b[0;34m)\u001b[0m\u001b[0;34m\u001b[0m\u001b[0m\n\u001b[1;32m    377\u001b[0m         \u001b[0msession\u001b[0m \u001b[0;34m=\u001b[0m \u001b[0m_get_session\u001b[0m\u001b[0;34m(\u001b[0m\u001b[0;34m)\u001b[0m\u001b[0;34m\u001b[0m\u001b[0m\n\u001b[0;32m--> 378\u001b[0;31m         \u001b[0mupdated\u001b[0m \u001b[0;34m=\u001b[0m \u001b[0msession\u001b[0m\u001b[0;34m.\u001b[0m\u001b[0mrun\u001b[0m\u001b[0;34m(\u001b[0m\u001b[0mself\u001b[0m\u001b[0;34m.\u001b[0m\u001b[0moutputs\u001b[0m \u001b[0;34m+\u001b[0m \u001b[0mself\u001b[0m\u001b[0;34m.\u001b[0m\u001b[0mupdates\u001b[0m\u001b[0;34m,\u001b[0m \u001b[0mfeed_dict\u001b[0m\u001b[0;34m=\u001b[0m\u001b[0mfeed_dict\u001b[0m\u001b[0;34m)\u001b[0m\u001b[0;34m\u001b[0m\u001b[0m\n\u001b[0m\u001b[1;32m    379\u001b[0m         \u001b[0;32mreturn\u001b[0m \u001b[0mupdated\u001b[0m\u001b[0;34m[\u001b[0m\u001b[0;34m:\u001b[0m\u001b[0mlen\u001b[0m\u001b[0;34m(\u001b[0m\u001b[0mself\u001b[0m\u001b[0;34m.\u001b[0m\u001b[0moutputs\u001b[0m\u001b[0;34m)\u001b[0m\u001b[0;34m]\u001b[0m\u001b[0;34m\u001b[0m\u001b[0m\n\u001b[1;32m    380\u001b[0m \u001b[0;34m\u001b[0m\u001b[0m\n",
      "\u001b[0;32m/Users/admin/anaconda/lib/python2.7/site-packages/tensorflow/python/client/session.pyc\u001b[0m in \u001b[0;36mrun\u001b[0;34m(self, fetches, feed_dict)\u001b[0m\n\u001b[1;32m    313\u001b[0m         \u001b[0;34m`\u001b[0m\u001b[0mTensor\u001b[0m\u001b[0;34m`\u001b[0m \u001b[0mthat\u001b[0m \u001b[0mdoesn\u001b[0m\u001b[0;31m'\u001b[0m\u001b[0mt\u001b[0m \u001b[0mexist\u001b[0m\u001b[0;34m.\u001b[0m\u001b[0;34m\u001b[0m\u001b[0m\n\u001b[1;32m    314\u001b[0m     \"\"\"\n\u001b[0;32m--> 315\u001b[0;31m     \u001b[0;32mreturn\u001b[0m \u001b[0mself\u001b[0m\u001b[0;34m.\u001b[0m\u001b[0m_run\u001b[0m\u001b[0;34m(\u001b[0m\u001b[0mNone\u001b[0m\u001b[0;34m,\u001b[0m \u001b[0mfetches\u001b[0m\u001b[0;34m,\u001b[0m \u001b[0mfeed_dict\u001b[0m\u001b[0;34m)\u001b[0m\u001b[0;34m\u001b[0m\u001b[0m\n\u001b[0m\u001b[1;32m    316\u001b[0m \u001b[0;34m\u001b[0m\u001b[0m\n\u001b[1;32m    317\u001b[0m   \u001b[0;32mdef\u001b[0m \u001b[0mpartial_run\u001b[0m\u001b[0;34m(\u001b[0m\u001b[0mself\u001b[0m\u001b[0;34m,\u001b[0m \u001b[0mhandle\u001b[0m\u001b[0;34m,\u001b[0m \u001b[0mfetches\u001b[0m\u001b[0;34m,\u001b[0m \u001b[0mfeed_dict\u001b[0m\u001b[0;34m=\u001b[0m\u001b[0mNone\u001b[0m\u001b[0;34m)\u001b[0m\u001b[0;34m:\u001b[0m\u001b[0;34m\u001b[0m\u001b[0m\n",
      "\u001b[0;32m/Users/admin/anaconda/lib/python2.7/site-packages/tensorflow/python/client/session.pyc\u001b[0m in \u001b[0;36m_run\u001b[0;34m(self, handle, fetches, feed_dict)\u001b[0m\n\u001b[1;32m    509\u001b[0m     \u001b[0;31m# Run request and get response.\u001b[0m\u001b[0;34m\u001b[0m\u001b[0;34m\u001b[0m\u001b[0m\n\u001b[1;32m    510\u001b[0m     results = self._do_run(handle, target_list, unique_fetches,\n\u001b[0;32m--> 511\u001b[0;31m                            feed_dict_string)\n\u001b[0m\u001b[1;32m    512\u001b[0m \u001b[0;34m\u001b[0m\u001b[0m\n\u001b[1;32m    513\u001b[0m     \u001b[0;31m# User may have fetched the same tensor multiple times, but we\u001b[0m\u001b[0;34m\u001b[0m\u001b[0;34m\u001b[0m\u001b[0m\n",
      "\u001b[0;32m/Users/admin/anaconda/lib/python2.7/site-packages/tensorflow/python/client/session.pyc\u001b[0m in \u001b[0;36m_do_run\u001b[0;34m(self, handle, target_list, fetch_list, feed_dict)\u001b[0m\n\u001b[1;32m    562\u001b[0m     \u001b[0;32mif\u001b[0m \u001b[0mhandle\u001b[0m \u001b[0;32mis\u001b[0m \u001b[0mNone\u001b[0m\u001b[0;34m:\u001b[0m\u001b[0;34m\u001b[0m\u001b[0m\n\u001b[1;32m    563\u001b[0m       return self._do_call(_run_fn, self._session, feed_dict, fetch_list,\n\u001b[0;32m--> 564\u001b[0;31m                            target_list)\n\u001b[0m\u001b[1;32m    565\u001b[0m     \u001b[0;32melse\u001b[0m\u001b[0;34m:\u001b[0m\u001b[0;34m\u001b[0m\u001b[0m\n\u001b[1;32m    566\u001b[0m       return self._do_call(_prun_fn, self._session, handle, feed_dict,\n",
      "\u001b[0;32m/Users/admin/anaconda/lib/python2.7/site-packages/tensorflow/python/client/session.pyc\u001b[0m in \u001b[0;36m_do_call\u001b[0;34m(self, fn, *args)\u001b[0m\n\u001b[1;32m    569\u001b[0m   \u001b[0;32mdef\u001b[0m \u001b[0m_do_call\u001b[0m\u001b[0;34m(\u001b[0m\u001b[0mself\u001b[0m\u001b[0;34m,\u001b[0m \u001b[0mfn\u001b[0m\u001b[0;34m,\u001b[0m \u001b[0;34m*\u001b[0m\u001b[0margs\u001b[0m\u001b[0;34m)\u001b[0m\u001b[0;34m:\u001b[0m\u001b[0;34m\u001b[0m\u001b[0m\n\u001b[1;32m    570\u001b[0m     \u001b[0;32mtry\u001b[0m\u001b[0;34m:\u001b[0m\u001b[0;34m\u001b[0m\u001b[0m\n\u001b[0;32m--> 571\u001b[0;31m       \u001b[0;32mreturn\u001b[0m \u001b[0mfn\u001b[0m\u001b[0;34m(\u001b[0m\u001b[0;34m*\u001b[0m\u001b[0margs\u001b[0m\u001b[0;34m)\u001b[0m\u001b[0;34m\u001b[0m\u001b[0m\n\u001b[0m\u001b[1;32m    572\u001b[0m     \u001b[0;32mexcept\u001b[0m \u001b[0mtf_session\u001b[0m\u001b[0;34m.\u001b[0m\u001b[0mStatusNotOK\u001b[0m \u001b[0;32mas\u001b[0m \u001b[0me\u001b[0m\u001b[0;34m:\u001b[0m\u001b[0;34m\u001b[0m\u001b[0m\n\u001b[1;32m    573\u001b[0m       \u001b[0me_type\u001b[0m\u001b[0;34m,\u001b[0m \u001b[0me_value\u001b[0m\u001b[0;34m,\u001b[0m \u001b[0me_traceback\u001b[0m \u001b[0;34m=\u001b[0m \u001b[0msys\u001b[0m\u001b[0;34m.\u001b[0m\u001b[0mexc_info\u001b[0m\u001b[0;34m(\u001b[0m\u001b[0;34m)\u001b[0m\u001b[0;34m\u001b[0m\u001b[0m\n",
      "\u001b[0;32m/Users/admin/anaconda/lib/python2.7/site-packages/tensorflow/python/client/session.pyc\u001b[0m in \u001b[0;36m_run_fn\u001b[0;34m(session, feed_dict, fetch_list, target_list)\u001b[0m\n\u001b[1;32m    553\u001b[0m       \u001b[0;31m# Ensure any changes to the graph are reflected in the runtime.\u001b[0m\u001b[0;34m\u001b[0m\u001b[0;34m\u001b[0m\u001b[0m\n\u001b[1;32m    554\u001b[0m       \u001b[0mself\u001b[0m\u001b[0;34m.\u001b[0m\u001b[0m_extend_graph\u001b[0m\u001b[0;34m(\u001b[0m\u001b[0;34m)\u001b[0m\u001b[0;34m\u001b[0m\u001b[0m\n\u001b[0;32m--> 555\u001b[0;31m       \u001b[0;32mreturn\u001b[0m \u001b[0mtf_session\u001b[0m\u001b[0;34m.\u001b[0m\u001b[0mTF_Run\u001b[0m\u001b[0;34m(\u001b[0m\u001b[0msession\u001b[0m\u001b[0;34m,\u001b[0m \u001b[0mfeed_dict\u001b[0m\u001b[0;34m,\u001b[0m \u001b[0mfetch_list\u001b[0m\u001b[0;34m,\u001b[0m \u001b[0mtarget_list\u001b[0m\u001b[0;34m)\u001b[0m\u001b[0;34m\u001b[0m\u001b[0m\n\u001b[0m\u001b[1;32m    556\u001b[0m \u001b[0;34m\u001b[0m\u001b[0m\n\u001b[1;32m    557\u001b[0m     \u001b[0;32mdef\u001b[0m \u001b[0m_prun_fn\u001b[0m\u001b[0;34m(\u001b[0m\u001b[0msession\u001b[0m\u001b[0;34m,\u001b[0m \u001b[0mhandle\u001b[0m\u001b[0;34m,\u001b[0m \u001b[0mfeed_dict\u001b[0m\u001b[0;34m,\u001b[0m \u001b[0mfetch_list\u001b[0m\u001b[0;34m)\u001b[0m\u001b[0;34m:\u001b[0m\u001b[0;34m\u001b[0m\u001b[0m\n",
      "\u001b[0;31mKeyboardInterrupt\u001b[0m: "
     ]
    }
   ],
   "source": [
    "sgd = SGD(lr=10)\n",
    "model.compile(loss='categorical_crossentropy', optimizer=sgd)\n",
    "print \"Running training\"\n",
    "for i in xrange(10):\n",
    "    if (i+1)*16 > 87:\n",
    "        break\n",
    "    model.train_on_batch(x[i*16:(i+1)*16], y[(i)*16:(i+1)*16], accuracy=True)\n",
    "    print model.evaluate(x_test, y_test, batch_size=1, show_accuracy=True)\n",
    "    print model.predict(x_test, batch_size=1)\n"
   ]
  },
  {
   "cell_type": "code",
   "execution_count": null,
   "metadata": {
    "collapsed": true
   },
   "outputs": [],
   "source": [
    "sgd = SGD(lr=10)\n",
    "model.compile(loss='categorical_crossentropy', optimizer=sgd)\n",
    "print \"Running training\"\n",
    "for i in xrange(10):\n",
    "    print model.train_on_batch(x, y, accuracy=True)\n",
    "    print model.evaluate(x_test, y_test, batch_size=1, show_accuracy=True)\n",
    "    print model.predict(x_test, batch_size=1)"
   ]
  },
  {
   "cell_type": "code",
   "execution_count": null,
   "metadata": {
    "collapsed": false
   },
   "outputs": [],
   "source": [
    "sgd = SGD(lr=0.01, decay=5e-4, momentum=0.9, nesterov=True)\n",
    "# adam = Adam(lr=0.1, beta_1=0.9, beta_2=0.999, epsilon=1e-08)\n",
    "model.compile(loss='categorical_crossentropy', optimizer=sgd)\n",
    "print \"Running training\"\n",
    "for i in xrange(10):\n",
    "    model.fit(x, y, nb_epoch=1, batch_size=1, verbose=1, show_accuracy=True, shuffle=True)\n",
    "    print model.evaluate(x_test, y_test, batch_size=1, show_accuracy=True)\n",
    "    print model.predict(x_test, batch_size=1)"
   ]
  },
  {
   "cell_type": "code",
   "execution_count": 9,
   "metadata": {
    "collapsed": false
   },
   "outputs": [
    {
     "data": {
      "text/plain": [
       "array([[[[ 11,   9,  11, ...,  25,  26,  26],\n",
       "         [ 13,  12,  11, ...,  21,  23,  22],\n",
       "         [ 15,  16,  12, ...,  19,  21,  18],\n",
       "         ..., \n",
       "         [189, 191, 178, ..., 206, 208, 208],\n",
       "         [184, 191, 178, ..., 207, 209, 209],\n",
       "         [181, 188, 177, ..., 205, 208, 209]],\n",
       "\n",
       "        [[ 38,  36,  32, ...,  26,  27,  27],\n",
       "         [ 39,  38,  33, ...,  23,  24,  26],\n",
       "         [ 39,  39,  32, ...,  23,  23,  23],\n",
       "         ..., \n",
       "         [190, 191, 177, ..., 210, 212, 212],\n",
       "         [186, 192, 176, ..., 209, 211, 212],\n",
       "         [183, 191, 177, ..., 208, 211, 212]],\n",
       "\n",
       "        [[ 82,  75,  63, ...,  23,  23,  23],\n",
       "         [ 83,  76,  64, ...,  21,  20,  21],\n",
       "         [ 82,  77,  62, ...,  20,  20,  20],\n",
       "         ..., \n",
       "         [172, 173, 159, ..., 197, 199, 199],\n",
       "         [167, 173, 158, ..., 194, 196, 197],\n",
       "         [164, 172, 158, ..., 193, 196, 197]]],\n",
       "\n",
       "\n",
       "       [[[ 26,  25,  25, ...,  21,  22,  22],\n",
       "         [ 26,  24,  25, ...,  19,  22,  22],\n",
       "         [ 27,  25,  25, ...,  18,  19,  20],\n",
       "         ..., \n",
       "         [214, 212, 210, ..., 203, 194, 190],\n",
       "         [217, 211, 205, ..., 203, 194, 190],\n",
       "         [206, 200, 191, ..., 207, 194, 185]],\n",
       "\n",
       "        [[ 37,  36,  35, ...,  24,  25,  25],\n",
       "         [ 35,  34,  32, ...,  22,  25,  25],\n",
       "         [ 35,  33,  31, ...,  21,  22,  23],\n",
       "         ..., \n",
       "         [214, 212, 211, ..., 207, 198, 193],\n",
       "         [217, 212, 206, ..., 207, 198, 193],\n",
       "         [208, 202, 193, ..., 209, 197, 190]],\n",
       "\n",
       "        [[ 45,  44,  44, ...,  22,  23,  23],\n",
       "         [ 44,  43,  42, ...,  20,  23,  23],\n",
       "         [ 44,  42,  41, ...,  19,  20,  21],\n",
       "         ..., \n",
       "         [196, 194, 192, ..., 188, 179, 176],\n",
       "         [199, 194, 187, ..., 189, 180, 178],\n",
       "         [189, 183, 174, ..., 194, 182, 175]]],\n",
       "\n",
       "\n",
       "       [[[ 37,  32,  26, ..., 107, 121, 138],\n",
       "         [ 36,  32,  27, ...,  98, 113, 129],\n",
       "         [ 32,  31,  27, ...,  90, 103, 116],\n",
       "         ..., \n",
       "         [201, 202, 206, ..., 151, 152, 150],\n",
       "         [209, 209, 209, ..., 151, 151, 151],\n",
       "         [210, 209, 209, ..., 152, 150, 151]],\n",
       "\n",
       "        [[ 35,  33,  33, ..., 133, 141, 154],\n",
       "         [ 33,  33,  34, ..., 120, 131, 145],\n",
       "         [ 30,  32,  35, ..., 107, 119, 132],\n",
       "         ..., \n",
       "         [201, 202, 204, ..., 160, 160, 160],\n",
       "         [208, 208, 208, ..., 159, 159, 159],\n",
       "         [209, 208, 207, ..., 158, 158, 159]],\n",
       "\n",
       "        [[ 65,  63,  66, ..., 130, 139, 153],\n",
       "         [ 64,  63,  67, ..., 118, 130, 143],\n",
       "         [ 64,  65,  67, ..., 108, 120, 133],\n",
       "         ..., \n",
       "         [186, 187, 188, ..., 160, 160, 160],\n",
       "         [194, 194, 194, ..., 159, 159, 159],\n",
       "         [195, 194, 196, ..., 159, 158, 159]]],\n",
       "\n",
       "\n",
       "       ..., \n",
       "       [[[ 39,  35,  32, ..., 214, 215, 214],\n",
       "         [ 42,  39,  37, ..., 215, 217, 214],\n",
       "         [ 35,  36,  35, ..., 133, 137, 137],\n",
       "         ..., \n",
       "         [ 21,  20,  20, ..., 117, 115, 114],\n",
       "         [ 19,  18,  18, ..., 117, 116, 113],\n",
       "         [ 19,  17,  17, ..., 120, 118, 115]],\n",
       "\n",
       "        [[ 74,  70,  68, ..., 230, 228, 225],\n",
       "         [ 75,  72,  70, ..., 230, 230, 225],\n",
       "         [ 62,  62,  61, ..., 146, 147, 146],\n",
       "         ..., \n",
       "         [ 48,  47,  46, ..., 133, 131, 130],\n",
       "         [ 48,  46,  45, ..., 135, 133, 131],\n",
       "         [ 47,  46,  44, ..., 137, 135, 132]],\n",
       "\n",
       "        [[108, 103, 103, ..., 226, 224, 222],\n",
       "         [104, 101, 100, ..., 228, 226, 222],\n",
       "         [ 79,  80,  81, ..., 146, 147, 146],\n",
       "         ..., \n",
       "         [ 79,  78,  79, ..., 129, 128, 126],\n",
       "         [ 79,  77,  77, ..., 131, 129, 127],\n",
       "         [ 78,  76,  76, ..., 133, 131, 128]]],\n",
       "\n",
       "\n",
       "       [[[ 43,  43,  44, ..., 162, 191, 201],\n",
       "         [ 31,  33,  36, ...,  97, 105, 107],\n",
       "         [ 17,  21,  25, ...,  51,  46,  46],\n",
       "         ..., \n",
       "         [ 21,  21,  21, ..., 121, 118, 114],\n",
       "         [ 20,  21,  20, ..., 122, 119, 114],\n",
       "         [ 19,  19,  19, ..., 120, 117, 115]],\n",
       "\n",
       "        [[ 76,  76,  76, ..., 170, 197, 204],\n",
       "         [ 58,  60,  62, ..., 105, 111, 111],\n",
       "         [ 32,  36,  39, ...,  59,  53,  51],\n",
       "         ..., \n",
       "         [ 44,  44,  44, ..., 133, 133, 131],\n",
       "         [ 45,  45,  45, ..., 136, 135, 133],\n",
       "         [ 46,  46,  46, ..., 136, 135, 134]],\n",
       "\n",
       "        [[ 89,  89,  89, ..., 174, 199, 205],\n",
       "         [ 71,  73,  75, ..., 108, 114, 112],\n",
       "         [ 40,  44,  47, ...,  62,  55,  52],\n",
       "         ..., \n",
       "         [ 84,  83,  82, ..., 133, 132, 130],\n",
       "         [ 81,  81,  81, ..., 134, 133, 131],\n",
       "         [ 80,  80,  80, ..., 133, 132, 131]]],\n",
       "\n",
       "\n",
       "       [[[ 22,  20,  19, ...,  46,  51,  51],\n",
       "         [ 20,  19,  17, ...,  46,  51,  50],\n",
       "         [ 20,  18,  16, ...,  46,  55,  53],\n",
       "         ..., \n",
       "         [ 68,  68,  68, ..., 102,  98,  95],\n",
       "         [ 68,  68,  66, ...,  90,  89,  88],\n",
       "         [ 67,  66,  63, ...,  85,  80,  76]],\n",
       "\n",
       "        [[ 22,  22,  21, ...,  69,  70,  71],\n",
       "         [ 20,  20,  19, ...,  69,  72,  70],\n",
       "         [ 18,  17,  16, ...,  67,  73,  71],\n",
       "         ..., \n",
       "         [ 77,  78,  78, ..., 116, 113, 111],\n",
       "         [ 72,  73,  72, ..., 103, 104, 102],\n",
       "         [ 71,  70,  67, ...,  98,  94,  91]],\n",
       "\n",
       "        [[ 22,  22,  21, ...,  72,  76,  76],\n",
       "         [ 20,  19,  19, ...,  70,  75,  75],\n",
       "         [ 19,  18,  18, ...,  68,  76,  75],\n",
       "         ..., \n",
       "         [ 86,  85,  86, ..., 112, 109, 107],\n",
       "         [ 84,  83,  82, ...,  99, 100,  98],\n",
       "         [ 82,  81,  78, ...,  93,  91,  87]]]], dtype=uint8)"
      ]
     },
     "execution_count": 9,
     "metadata": {},
     "output_type": "execute_result"
    }
   ],
   "source": [
    "x"
   ]
  },
  {
   "cell_type": "code",
   "execution_count": 11,
   "metadata": {
    "collapsed": false
   },
   "outputs": [
    {
     "data": {
      "text/plain": [
       "[array([ 1.,  0.,  0.,  0.,  0.,  0.,  0.]),\n",
       " array([ 1.,  0.,  0.,  0.,  0.,  0.,  0.]),\n",
       " array([ 1.,  0.,  0.,  0.,  0.,  0.,  0.]),\n",
       " array([ 1.,  0.,  0.,  0.,  0.,  0.,  0.]),\n",
       " array([ 1.,  0.,  0.,  0.,  0.,  0.,  0.]),\n",
       " array([ 1.,  0.,  0.,  0.,  0.,  0.,  0.]),\n",
       " array([ 0.,  0.,  0.,  0.,  0.,  1.,  0.]),\n",
       " array([ 0.,  0.,  0.,  0.,  0.,  1.,  0.]),\n",
       " array([ 0.,  0.,  0.,  0.,  0.,  1.,  0.]),\n",
       " array([ 0.,  0.,  0.,  0.,  0.,  1.,  0.]),\n",
       " array([ 0.,  0.,  0.,  0.,  0.,  1.,  0.]),\n",
       " array([ 0.,  0.,  0.,  0.,  0.,  1.,  0.]),\n",
       " array([ 0.,  0.,  0.,  0.,  0.,  1.,  0.]),\n",
       " array([ 0.,  0.,  0.,  0.,  0.,  1.,  0.]),\n",
       " array([ 0.,  0.,  0.,  0.,  0.,  1.,  0.]),\n",
       " array([ 0.,  0.,  0.,  0.,  0.,  1.,  0.]),\n",
       " array([ 0.,  0.,  0.,  0.,  0.,  1.,  0.]),\n",
       " array([ 0.,  0.,  0.,  0.,  0.,  1.,  0.]),\n",
       " array([ 0.,  0.,  0.,  0.,  0.,  1.,  0.]),\n",
       " array([ 0.,  0.,  0.,  0.,  0.,  1.,  0.]),\n",
       " array([ 0.,  0.,  0.,  0.,  0.,  1.,  0.]),\n",
       " array([ 0.,  0.,  0.,  0.,  0.,  1.,  0.]),\n",
       " array([ 0.,  0.,  0.,  0.,  0.,  1.,  0.]),\n",
       " array([ 0.,  0.,  0.,  0.,  0.,  1.,  0.]),\n",
       " array([ 0.,  0.,  0.,  0.,  0.,  1.,  0.]),\n",
       " array([ 0.,  0.,  0.,  0.,  0.,  0.,  1.]),\n",
       " array([ 0.,  0.,  0.,  0.,  0.,  0.,  1.]),\n",
       " array([ 0.,  0.,  0.,  0.,  0.,  0.,  1.]),\n",
       " array([ 0.,  0.,  0.,  0.,  0.,  0.,  1.]),\n",
       " array([ 0.,  0.,  0.,  0.,  0.,  0.,  1.]),\n",
       " array([ 0.,  0.,  0.,  0.,  0.,  0.,  1.]),\n",
       " array([ 0.,  0.,  0.,  0.,  0.,  0.,  1.]),\n",
       " array([ 0.,  0.,  0.,  0.,  0.,  0.,  1.]),\n",
       " array([ 0.,  0.,  0.,  0.,  0.,  0.,  1.]),\n",
       " array([ 0.,  0.,  0.,  1.,  0.,  0.,  0.]),\n",
       " array([ 0.,  0.,  0.,  1.,  0.,  0.,  0.]),\n",
       " array([ 0.,  0.,  0.,  1.,  0.,  0.,  0.]),\n",
       " array([ 0.,  0.,  0.,  1.,  0.,  0.,  0.]),\n",
       " array([ 0.,  0.,  0.,  1.,  0.,  0.,  0.]),\n",
       " array([ 0.,  0.,  0.,  1.,  0.,  0.,  0.]),\n",
       " array([ 0.,  0.,  0.,  1.,  0.,  0.,  0.]),\n",
       " array([ 0.,  0.,  0.,  1.,  0.,  0.,  0.]),\n",
       " array([ 0.,  0.,  0.,  1.,  0.,  0.,  0.]),\n",
       " array([ 0.,  0.,  0.,  1.,  0.,  0.,  0.]),\n",
       " array([ 0.,  0.,  0.,  1.,  0.,  0.,  0.]),\n",
       " array([ 0.,  0.,  0.,  1.,  0.,  0.,  0.]),\n",
       " array([ 0.,  0.,  0.,  1.,  0.,  0.,  0.]),\n",
       " array([ 0.,  0.,  0.,  1.,  0.,  0.,  0.]),\n",
       " array([ 0.,  1.,  0.,  0.,  0.,  0.,  0.]),\n",
       " array([ 0.,  1.,  0.,  0.,  0.,  0.,  0.]),\n",
       " array([ 0.,  1.,  0.,  0.,  0.,  0.,  0.]),\n",
       " array([ 0.,  1.,  0.,  0.,  0.,  0.,  0.]),\n",
       " array([ 0.,  1.,  0.,  0.,  0.,  0.,  0.]),\n",
       " array([ 0.,  1.,  0.,  0.,  0.,  0.,  0.]),\n",
       " array([ 0.,  1.,  0.,  0.,  0.,  0.,  0.]),\n",
       " array([ 0.,  1.,  0.,  0.,  0.,  0.,  0.]),\n",
       " array([ 0.,  1.,  0.,  0.,  0.,  0.,  0.]),\n",
       " array([ 0.,  1.,  0.,  0.,  0.,  0.,  0.]),\n",
       " array([ 0.,  0.,  0.,  0.,  1.,  0.,  0.]),\n",
       " array([ 0.,  0.,  0.,  0.,  1.,  0.,  0.]),\n",
       " array([ 0.,  0.,  0.,  0.,  1.,  0.,  0.]),\n",
       " array([ 0.,  0.,  0.,  0.,  1.,  0.,  0.]),\n",
       " array([ 0.,  0.,  0.,  0.,  1.,  0.,  0.]),\n",
       " array([ 0.,  0.,  0.,  0.,  1.,  0.,  0.]),\n",
       " array([ 0.,  0.,  0.,  0.,  1.,  0.,  0.]),\n",
       " array([ 0.,  0.,  0.,  0.,  1.,  0.,  0.]),\n",
       " array([ 0.,  0.,  0.,  0.,  1.,  0.,  0.]),\n",
       " array([ 0.,  0.,  0.,  0.,  1.,  0.,  0.]),\n",
       " array([ 0.,  0.,  0.,  0.,  1.,  0.,  0.]),\n",
       " array([ 0.,  0.,  0.,  0.,  1.,  0.,  0.]),\n",
       " array([ 0.,  0.,  0.,  0.,  1.,  0.,  0.]),\n",
       " array([ 0.,  0.,  1.,  0.,  0.,  0.,  0.]),\n",
       " array([ 0.,  0.,  1.,  0.,  0.,  0.,  0.]),\n",
       " array([ 0.,  0.,  1.,  0.,  0.,  0.,  0.]),\n",
       " array([ 0.,  0.,  1.,  0.,  0.,  0.,  0.]),\n",
       " array([ 0.,  0.,  1.,  0.,  0.,  0.,  0.]),\n",
       " array([ 0.,  0.,  1.,  0.,  0.,  0.,  0.]),\n",
       " array([ 0.,  0.,  1.,  0.,  0.,  0.,  0.]),\n",
       " array([ 0.,  0.,  1.,  0.,  0.,  0.,  0.]),\n",
       " array([ 0.,  0.,  1.,  0.,  0.,  0.,  0.]),\n",
       " array([ 0.,  0.,  1.,  0.,  0.,  0.,  0.]),\n",
       " array([ 0.,  0.,  1.,  0.,  0.,  0.,  0.]),\n",
       " array([ 0.,  0.,  1.,  0.,  0.,  0.,  0.]),\n",
       " array([ 0.,  0.,  1.,  0.,  0.,  0.,  0.]),\n",
       " array([ 0.,  0.,  1.,  0.,  0.,  0.,  0.]),\n",
       " array([ 0.,  0.,  1.,  0.,  0.,  0.,  0.]),\n",
       " array([ 0.,  0.,  1.,  0.,  0.,  0.,  0.])]"
      ]
     },
     "execution_count": 11,
     "metadata": {},
     "output_type": "execute_result"
    }
   ],
   "source": [
    "y"
   ]
  },
  {
   "cell_type": "code",
   "execution_count": 12,
   "metadata": {
    "collapsed": false
   },
   "outputs": [
    {
     "data": {
      "text/plain": [
       "array([[[ 11,   9,  11, ...,  25,  26,  26],\n",
       "        [ 13,  12,  11, ...,  21,  23,  22],\n",
       "        [ 15,  16,  12, ...,  19,  21,  18],\n",
       "        ..., \n",
       "        [189, 191, 178, ..., 206, 208, 208],\n",
       "        [184, 191, 178, ..., 207, 209, 209],\n",
       "        [181, 188, 177, ..., 205, 208, 209]],\n",
       "\n",
       "       [[ 38,  36,  32, ...,  26,  27,  27],\n",
       "        [ 39,  38,  33, ...,  23,  24,  26],\n",
       "        [ 39,  39,  32, ...,  23,  23,  23],\n",
       "        ..., \n",
       "        [190, 191, 177, ..., 210, 212, 212],\n",
       "        [186, 192, 176, ..., 209, 211, 212],\n",
       "        [183, 191, 177, ..., 208, 211, 212]],\n",
       "\n",
       "       [[ 82,  75,  63, ...,  23,  23,  23],\n",
       "        [ 83,  76,  64, ...,  21,  20,  21],\n",
       "        [ 82,  77,  62, ...,  20,  20,  20],\n",
       "        ..., \n",
       "        [172, 173, 159, ..., 197, 199, 199],\n",
       "        [167, 173, 158, ..., 194, 196, 197],\n",
       "        [164, 172, 158, ..., 193, 196, 197]]], dtype=uint8)"
      ]
     },
     "execution_count": 12,
     "metadata": {},
     "output_type": "execute_result"
    }
   ],
   "source": [
    "x[0]"
   ]
  },
  {
   "cell_type": "code",
   "execution_count": 13,
   "metadata": {
    "collapsed": false
   },
   "outputs": [
    {
     "data": {
      "text/plain": [
       "[array([ 1.,  0.,  0.,  0.,  0.,  0.,  0.]),\n",
       " array([ 1.,  0.,  0.,  0.,  0.,  0.,  0.]),\n",
       " array([ 1.,  0.,  0.,  0.,  0.,  0.,  0.]),\n",
       " array([ 1.,  0.,  0.,  0.,  0.,  0.,  0.]),\n",
       " array([ 1.,  0.,  0.,  0.,  0.,  0.,  0.]),\n",
       " array([ 1.,  0.,  0.,  0.,  0.,  0.,  0.]),\n",
       " array([ 0.,  0.,  0.,  0.,  0.,  1.,  0.]),\n",
       " array([ 0.,  0.,  0.,  0.,  0.,  1.,  0.]),\n",
       " array([ 0.,  0.,  0.,  0.,  0.,  1.,  0.]),\n",
       " array([ 0.,  0.,  0.,  0.,  0.,  1.,  0.]),\n",
       " array([ 0.,  0.,  0.,  0.,  0.,  1.,  0.]),\n",
       " array([ 0.,  0.,  0.,  0.,  0.,  1.,  0.]),\n",
       " array([ 0.,  0.,  0.,  0.,  0.,  1.,  0.]),\n",
       " array([ 0.,  0.,  0.,  0.,  0.,  1.,  0.]),\n",
       " array([ 0.,  0.,  0.,  0.,  0.,  1.,  0.]),\n",
       " array([ 0.,  0.,  0.,  0.,  0.,  1.,  0.]),\n",
       " array([ 0.,  0.,  0.,  0.,  0.,  1.,  0.]),\n",
       " array([ 0.,  0.,  0.,  0.,  0.,  1.,  0.]),\n",
       " array([ 0.,  0.,  0.,  0.,  0.,  1.,  0.]),\n",
       " array([ 0.,  0.,  0.,  0.,  0.,  1.,  0.]),\n",
       " array([ 0.,  0.,  0.,  0.,  0.,  1.,  0.]),\n",
       " array([ 0.,  0.,  0.,  0.,  0.,  1.,  0.]),\n",
       " array([ 0.,  0.,  0.,  0.,  0.,  1.,  0.]),\n",
       " array([ 0.,  0.,  0.,  0.,  0.,  1.,  0.]),\n",
       " array([ 0.,  0.,  0.,  0.,  0.,  1.,  0.]),\n",
       " array([ 0.,  0.,  0.,  0.,  0.,  0.,  1.]),\n",
       " array([ 0.,  0.,  0.,  0.,  0.,  0.,  1.]),\n",
       " array([ 0.,  0.,  0.,  0.,  0.,  0.,  1.]),\n",
       " array([ 0.,  0.,  0.,  0.,  0.,  0.,  1.]),\n",
       " array([ 0.,  0.,  0.,  0.,  0.,  0.,  1.]),\n",
       " array([ 0.,  0.,  0.,  0.,  0.,  0.,  1.]),\n",
       " array([ 0.,  0.,  0.,  0.,  0.,  0.,  1.]),\n",
       " array([ 0.,  0.,  0.,  0.,  0.,  0.,  1.]),\n",
       " array([ 0.,  0.,  0.,  0.,  0.,  0.,  1.]),\n",
       " array([ 0.,  0.,  0.,  1.,  0.,  0.,  0.]),\n",
       " array([ 0.,  0.,  0.,  1.,  0.,  0.,  0.]),\n",
       " array([ 0.,  0.,  0.,  1.,  0.,  0.,  0.]),\n",
       " array([ 0.,  0.,  0.,  1.,  0.,  0.,  0.]),\n",
       " array([ 0.,  0.,  0.,  1.,  0.,  0.,  0.]),\n",
       " array([ 0.,  0.,  0.,  1.,  0.,  0.,  0.]),\n",
       " array([ 0.,  0.,  0.,  1.,  0.,  0.,  0.]),\n",
       " array([ 0.,  0.,  0.,  1.,  0.,  0.,  0.]),\n",
       " array([ 0.,  0.,  0.,  1.,  0.,  0.,  0.]),\n",
       " array([ 0.,  0.,  0.,  1.,  0.,  0.,  0.]),\n",
       " array([ 0.,  0.,  0.,  1.,  0.,  0.,  0.]),\n",
       " array([ 0.,  0.,  0.,  1.,  0.,  0.,  0.]),\n",
       " array([ 0.,  0.,  0.,  1.,  0.,  0.,  0.]),\n",
       " array([ 0.,  0.,  0.,  1.,  0.,  0.,  0.]),\n",
       " array([ 0.,  1.,  0.,  0.,  0.,  0.,  0.]),\n",
       " array([ 0.,  1.,  0.,  0.,  0.,  0.,  0.]),\n",
       " array([ 0.,  1.,  0.,  0.,  0.,  0.,  0.]),\n",
       " array([ 0.,  1.,  0.,  0.,  0.,  0.,  0.]),\n",
       " array([ 0.,  1.,  0.,  0.,  0.,  0.,  0.]),\n",
       " array([ 0.,  1.,  0.,  0.,  0.,  0.,  0.]),\n",
       " array([ 0.,  1.,  0.,  0.,  0.,  0.,  0.]),\n",
       " array([ 0.,  1.,  0.,  0.,  0.,  0.,  0.]),\n",
       " array([ 0.,  1.,  0.,  0.,  0.,  0.,  0.]),\n",
       " array([ 0.,  1.,  0.,  0.,  0.,  0.,  0.]),\n",
       " array([ 0.,  0.,  0.,  0.,  1.,  0.,  0.]),\n",
       " array([ 0.,  0.,  0.,  0.,  1.,  0.,  0.]),\n",
       " array([ 0.,  0.,  0.,  0.,  1.,  0.,  0.]),\n",
       " array([ 0.,  0.,  0.,  0.,  1.,  0.,  0.]),\n",
       " array([ 0.,  0.,  0.,  0.,  1.,  0.,  0.]),\n",
       " array([ 0.,  0.,  0.,  0.,  1.,  0.,  0.]),\n",
       " array([ 0.,  0.,  0.,  0.,  1.,  0.,  0.]),\n",
       " array([ 0.,  0.,  0.,  0.,  1.,  0.,  0.]),\n",
       " array([ 0.,  0.,  0.,  0.,  1.,  0.,  0.]),\n",
       " array([ 0.,  0.,  0.,  0.,  1.,  0.,  0.]),\n",
       " array([ 0.,  0.,  0.,  0.,  1.,  0.,  0.]),\n",
       " array([ 0.,  0.,  0.,  0.,  1.,  0.,  0.]),\n",
       " array([ 0.,  0.,  0.,  0.,  1.,  0.,  0.]),\n",
       " array([ 0.,  0.,  1.,  0.,  0.,  0.,  0.]),\n",
       " array([ 0.,  0.,  1.,  0.,  0.,  0.,  0.]),\n",
       " array([ 0.,  0.,  1.,  0.,  0.,  0.,  0.]),\n",
       " array([ 0.,  0.,  1.,  0.,  0.,  0.,  0.]),\n",
       " array([ 0.,  0.,  1.,  0.,  0.,  0.,  0.]),\n",
       " array([ 0.,  0.,  1.,  0.,  0.,  0.,  0.]),\n",
       " array([ 0.,  0.,  1.,  0.,  0.,  0.,  0.]),\n",
       " array([ 0.,  0.,  1.,  0.,  0.,  0.,  0.]),\n",
       " array([ 0.,  0.,  1.,  0.,  0.,  0.,  0.]),\n",
       " array([ 0.,  0.,  1.,  0.,  0.,  0.,  0.]),\n",
       " array([ 0.,  0.,  1.,  0.,  0.,  0.,  0.]),\n",
       " array([ 0.,  0.,  1.,  0.,  0.,  0.,  0.]),\n",
       " array([ 0.,  0.,  1.,  0.,  0.,  0.,  0.]),\n",
       " array([ 0.,  0.,  1.,  0.,  0.,  0.,  0.]),\n",
       " array([ 0.,  0.,  1.,  0.,  0.,  0.,  0.]),\n",
       " array([ 0.,  0.,  1.,  0.,  0.,  0.,  0.])]"
      ]
     },
     "execution_count": 13,
     "metadata": {},
     "output_type": "execute_result"
    }
   ],
   "source": [
    "y\n"
   ]
  },
  {
   "cell_type": "code",
   "execution_count": 17,
   "metadata": {
    "collapsed": false
   },
   "outputs": [],
   "source": [
    "x = x.astype('float32')\n",
    "x_test = x_test.astype('float32')\n",
    "x /= 255\n",
    "x_test /= 255\n",
    "y = np_utils.to_categorical(y, 7)\n",
    "y_test = np_utils.to_categorical(y_test, 7)"
   ]
  },
  {
   "cell_type": "code",
   "execution_count": 14,
   "metadata": {
    "collapsed": true
   },
   "outputs": [],
   "source": [
    "x,y = from_file()\n",
    "x_test, y_test = test_file()"
   ]
  },
  {
   "cell_type": "code",
   "execution_count": 16,
   "metadata": {
    "collapsed": true
   },
   "outputs": [],
   "source": [
    "from keras.utils import np_utils\n"
   ]
  },
  {
   "cell_type": "code",
   "execution_count": null,
   "metadata": {
    "collapsed": true
   },
   "outputs": [],
   "source": []
  }
 ],
 "metadata": {
  "kernelspec": {
   "display_name": "Python 2",
   "language": "python",
   "name": "python2"
  },
  "language_info": {
   "codemirror_mode": {
    "name": "ipython",
    "version": 2
   },
   "file_extension": ".py",
   "mimetype": "text/x-python",
   "name": "python",
   "nbconvert_exporter": "python",
   "pygments_lexer": "ipython2",
   "version": "2.7.11"
  }
 },
 "nbformat": 4,
 "nbformat_minor": 0
}
